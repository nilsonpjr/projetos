{
  "nbformat": 4,
  "nbformat_minor": 0,
  "metadata": {
    "colab": {
      "name": "WebScraping.ipynb",
      "provenance": [],
      "authorship_tag": "ABX9TyMpUwjSfZ3RypkKoKUndw3R",
      "include_colab_link": true
    },
    "kernelspec": {
      "name": "python3",
      "display_name": "Python 3"
    }
  },
  "cells": [
    {
      "cell_type": "markdown",
      "metadata": {
        "id": "view-in-github",
        "colab_type": "text"
      },
      "source": [
        "<a href=\"https://colab.research.google.com/github/nilsonpjr/projetos/blob/main/WebScraping.ipynb\" target=\"_parent\"><img src=\"https://colab.research.google.com/assets/colab-badge.svg\" alt=\"Open In Colab\"/></a>"
      ]
    },
    {
      "cell_type": "code",
      "metadata": {
        "id": "CNpthGlCMPSv"
      },
      "source": [
        "import requests\r\n",
        "from requests.auth import HTTPBasicAuth\r\n",
        "from bs4 import BeautifulSoup\r\n",
        "\r\n",
        "Url = 'https://portal.mercurymarine.com.br/epdv/epdv000.asp'\r\n",
        "Urlt= 'https://portal.mercurymarine.com.br/epdv/epdv000t.asp'\r\n",
        "Urlw = 'https://portal.mercurymarine.com.br/epdv/epdv000w.asp'\r\n",
        "url1 = 'https://portal.mercurymarine.com.br'\r\n",
        "dbuser = 'sUsuar'\r\n",
        "dbpass = 'sSenha'\r\n"
      ],
      "execution_count": 3,
      "outputs": []
    },
    {
      "cell_type": "code",
      "metadata": {
        "id": "i7O4M1NZMbmB"
      },
      "source": [
        "\n",
        "headers = {\n",
        "'user-agent': 'Mozilla/5.0 (Windows NT 10.0; Win64; x64) AppleWebKit/537.36 (KHTML, like Gecko) Chrome/88.0.4324.150 Safari/537.36',\n",
        " 'oringin': url1,\n",
        " 'referer':'https://portal.mercurymarine.com.br/epdv/epdv001.asp?sEr=1'\n",
        "}\n"
      ],
      "execution_count": 4,
      "outputs": []
    },
    {
      "cell_type": "code",
      "metadata": {
        "colab": {
          "base_uri": "https://localhost:8080/"
        },
        "id": "C4GEbFMxXRXU",
        "outputId": "a6f5d198-6528-4254-8905-37bc058c5965"
      },
      "source": [
        "s = requests.session()\r\n",
        "csrf_token = s.get(Url)\r\n",
        "login_payload ={    \r\n",
        "    'sUsar' : '31240',\r\n",
        "    'sSenha': '2105_kasa',\r\n",
        " #   'csfrmiddlewaretoken': csrf_token\r\n",
        "}\r\n",
        "print(csrf_token.encoding)\r\n",
        "\r\n",
        "login_req = s.post(url1, headers=headers,data=login_payload)\r\n",
        "print(login_req.status_code)\r\n",
        "Urlt= 'https://portal.mercurymarine.com.br/epdv/epdv000t.asp'\r\n",
        "Urlw = 'https://portal.mercurymarine.com.br/epdv/epdv000w.asp'\r\n",
        "#cookies = login_req.cookies\r\n",
        "#print(login_req)\r\n",
        "page = requests.get(Urlt)\r\n",
        "soup = BeautifulSoup(page.text, 'html.parser')\r\n",
        "tbody = soup.findAll('input', 'value'=='Pedidos')\r\n",
        "print(tbody)"
      ],
      "execution_count": 5,
      "outputs": [
        {
          "output_type": "stream",
          "text": [
            "ISO-8859-1\n",
            "200\n",
            "[<input id=\"hCdEmit\" type=\"hidden\" value=\"\"/>, <input class=\"Button\" name=\"bt_cad_ped\" onclick=\"funcao('epdv002.asp','1','1','mainFrame')\" onmouseout=\"UnTip()\" onmouseover=\"Tip('Cadastros de Pedidos')\" type=\"button\" value=\"Pedidos\"/>, <input class=\"Button\" name=\"bt_mural\" onclick=\"funcao('epdv000w.asp','1','1','baseFrame')\" onmouseout=\"UnTip()\" onmouseover=\"Tip('Mural de Mensagens')\" type=\"button\" value=\"Mural\"/>, <input class=\"ButtonGar2\" name=\"bt_catalpec\" onclick=\"window.open('https://public-mercurymarine.sysonline.com/Default.aspx?sysname=NorthAmerica&amp;company=Guest&amp;NA_KEY=NA_KEY_VALUE&amp;langIF=por&amp;langDB=por','Catálogo de Peças','')\" onmouseout=\"UnTip()\" onmouseover=\"Tip('Catálogo de Peças')\" type=\"button\" value=\"Catálogo Peças\"/>, <input class=\"ButtonGar2\" name=\"bt_catalaces\" onclick=\"window.open('../files/docs/catacessorios.pdf','Catálogo de Acessórios','')\" onmouseout=\"UnTip()\" onmouseover=\"Tip('Catálogo de Acessórios)\" type=\"button\" value=\"Catálogo Acessórios\"/>, <input class=\"ButtonNew\" name=\"bt_help\" onclick=\"window.open('../files/docs/stepbystep.pdf','1','1','_new')\" onmouseout=\"UnTip()\" onmouseover=\"Tip('Passo a Passo para utilização do Sistema de Pedidos')\" type=\"button\" value=\"Passo a Passo\"/>, <input class=\"ButtonGar01\" name=\"bt_dld_doctos\" onclick=\"window.open('ewr015.asp?modulo=1','mainFrame','');\" onmouseout=\"UnTip()\" onmouseover=\"Tip('Download de Documentos')\" type=\"button\" value=\"Documentos\"/>, <input class=\"Button\" name=\"bt_senha\" onclick=\"funcao('epdv001a.asp','1','1','mainFrame')\" onmouseout=\"UnTip()\" onmouseover=\"Tip('Manutenção de Senha de Acesso')\" type=\"button\" value=\"Mudar Senha\"/>, <input class=\"Button\" onclick=\"funcao3('')\" type=\"button\" value=\"Sair\">\n",
            "</input>, <input name=\"p1\" type=\"hidden\"/>, <input name=\"p2\" type=\"hidden\"/>, <input name=\"pNM\" type=\"hidden\"/>, <input name=\"pNA\" type=\"hidden\"/>, <input name=\"sTarget\" type=\"hidden\"/>]\n"
          ],
          "name": "stdout"
        }
      ]
    },
    {
      "cell_type": "code",
      "metadata": {
        "id": "6X-yxXz5B6Ji"
      },
      "source": [
        ""
      ],
      "execution_count": null,
      "outputs": []
    },
    {
      "cell_type": "code",
      "metadata": {
        "colab": {
          "base_uri": "https://localhost:8080/"
        },
        "id": "giOjnKKl8EG0",
        "outputId": "c7807800-122e-496f-b2e2-5ec4bae00712"
      },
      "source": [
        "from colabcode import ColabCode\r\n",
        "ColabCode(port=10000)"
      ],
      "execution_count": null,
      "outputs": [
        {
          "output_type": "stream",
          "text": [
            "Code Server can be accessed on: NgrokTunnel: \"http://85a7fb81adb7.ngrok.io\" -> \"http://localhost:10000\"\n",
            "[2021-02-08T23:41:14.735Z] info  code-server 3.7.4 11f53784c58f68e7f4c5b3b8dae9407caa41725b\n",
            "[2021-02-08T23:41:14.738Z] info  Using user-data-dir ~/.local/share/code-server\n",
            "[2021-02-08T23:41:14.750Z] info  Using config file ~/.config/code-server/config.yaml\n",
            "[2021-02-08T23:41:14.750Z] info  HTTP server listening on http://127.0.0.1:10000 \n",
            "[2021-02-08T23:41:14.750Z] info    - Authentication is disabled \n",
            "[2021-02-08T23:41:14.750Z] info    - Not serving HTTPS\n"
          ],
          "name": "stdout"
        }
      ]
    },
    {
      "cell_type": "markdown",
      "metadata": {
        "id": "cRGz-S7LBy7B"
      },
      "source": [
        "# Nova seção"
      ]
    }
  ]
}